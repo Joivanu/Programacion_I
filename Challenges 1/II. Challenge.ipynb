{
 "cells": [
  {
   "cell_type": "markdown",
   "metadata": {},
   "source": [
    "## Listas o tuplas\n",
    "\n",
    "Las listas y las tuplas son dos tipos de estructuras de datos que se utilizan para almacenar colecciones de elementos. Sin embargo, tienen algunas diferencias clave:\n",
    "\n",
    "**Listas (Lists):**\n",
    "\n",
    "Las listas se definen utilizando corchetes [  ].\n",
    "Son mutables, lo que significa que se pueden modificar después de su creación. Puedes agregar, eliminar y cambiar elementos en una lista.\n",
    "Se pueden utilizar para almacenar una colección ordenada de elementos de diferentes tipos (números, cadenas, objetos, etc.).\n",
    "Ejemplo: **mi_lista = [1, 2, 3, 'cuatro']**\n",
    "\n",
    "**Tuplas (Tuples):**\n",
    "\n",
    "Las tuplas se definen utilizando paréntesis ().\n",
    "Son inmutables, lo que significa que no se pueden modificar una vez creadas. No puedes agregar, eliminar ni cambiar elementos en una tupla.\n",
    "Se utilizan para almacenar colecciones ordenadas de elementos, al igual que las listas, pero su inmutabilidad puede ser útil en ciertos contextos.\n",
    "Ejemplo: **mi_tupla = (1, 2, 3, 'cuatro')**"
   ]
  },
  {
   "cell_type": "markdown",
   "metadata": {},
   "source": [
    "**Lista**\n",
    "\n",
    "<pre>\n",
    "   <code>\n",
    "      mi_lista = [1, 2, 3]\n",
    "      mi_lista.append(4)                 # Agrega un elemento al final\n",
    "      mi_lista[1] = 5                    # Cambia el segundo elemento\n",
    "      del mi_lista[0]                    # Elimina el primer elemento\n",
    "   </code>\n",
    "</pre>\n",
    "\n",
    "**Tupla**\n",
    "\n",
    "<pre>\n",
    "   <code>\n",
    "      mi_tupla = (1, 2, 3)\n",
    "   </code>\n",
    "</pre>\n",
    "\n",
    "\n",
    "No se pueden hacer modificaciones en una tupla, por lo que no hay métodos como append, remove o pop para ellas"
   ]
  },
  {
   "cell_type": "markdown",
   "metadata": {},
   "source": [
    "**Ejercicio 1**\n",
    "\n",
    "Escribir un programa que almacene las asignaturas de un curso (por ejemplo Matemáticas, Física, Química, Historia e Idiomas) en una lista y la muestre por pantalla."
   ]
  },
  {
   "cell_type": "code",
   "execution_count": 3,
   "metadata": {},
   "outputs": [
    {
     "name": "stdout",
     "output_type": "stream",
     "text": [
      "['Matemáticas', 'Física', 'Química', 'Historia', 'Idiomas']\n"
     ]
    }
   ],
   "source": [
    "subjects = [\"Matemáticas\", \"Física\", \"Química\", \"Historia\", \"Idiomas\"]\n",
    "print(subjects)"
   ]
  },
  {
   "cell_type": "markdown",
   "metadata": {},
   "source": [
    "**Ejercicio 2**\n",
    "\n",
    "Escribir un programa que almacene las asignaturas de un curso (por ejemplo Matemáticas, Física, Química, Historia e Idiomas) en una lista y la muestre por pantalla."
   ]
  },
  {
   "cell_type": "code",
   "execution_count": 4,
   "metadata": {},
   "outputs": [
    {
     "name": "stdout",
     "output_type": "stream",
     "text": [
      "Yo estudio Matemáticas\n",
      "Yo estudio Física\n",
      "Yo estudio Química\n",
      "Yo estudio Historia\n",
      "Yo estudio Idiomas\n"
     ]
    }
   ],
   "source": [
    "subjects = [\"Matemáticas\", \"Física\", \"Química\", \"Historia\", \"Idiomas\"]\n",
    "for subject in subjects:\n",
    "    print(\"Yo estudio \" + subject)"
   ]
  },
  {
   "cell_type": "markdown",
   "metadata": {},
   "source": [
    "**Ejercicio 3**\n",
    "\n",
    "Escribir un programa que almacene las asignaturas de un curso (por ejemplo Matemáticas, Física, Química, Historia e Idiomas) en una lista y la muestre por pantalla."
   ]
  },
  {
   "cell_type": "code",
   "execution_count": 6,
   "metadata": {},
   "outputs": [
    {
     "name": "stdout",
     "output_type": "stream",
     "text": [
      "En Matemáticas has sacado 85\n",
      "En Física has sacado 87\n",
      "En Química has sacado 90\n",
      "En Historia has sacado 100\n",
      "En Idiomas has sacado 95\n"
     ]
    }
   ],
   "source": [
    "subjects = [\"Matemáticas\", \"Física\", \"Química\", \"Historia\", \"Idiomas\"]\n",
    "scores = []\n",
    "for subject in subjects:\n",
    "    score = input(\"¿Qué nota has sacado en \" + subject + \"?\")\n",
    "    scores.append(score)\n",
    "for i in range(len(subjects)):\n",
    "    print(\"En \" + subjects[i] + \" has sacado \" + scores[i])"
   ]
  },
  {
   "cell_type": "markdown",
   "metadata": {},
   "source": [
    "**Ejercicio 4**\n",
    "\n",
    "Escribir un programa que pregunte al usuario los números ganadores de la lotería primitiva, los almacene en una lista y los muestre por pantalla ordenados de menor a mayor."
   ]
  },
  {
   "cell_type": "code",
   "execution_count": 11,
   "metadata": {},
   "outputs": [
    {
     "name": "stdout",
     "output_type": "stream",
     "text": [
      "Los números ganadores son [1, 2, 20, 47, 52, 80]\n"
     ]
    }
   ],
   "source": [
    "awarded = []\n",
    "for i in range(6):\n",
    "    awarded.append(int(input(\"Introduce un número ganador: \")))\n",
    "awarded.sort()\n",
    "print(\"Los números ganadores son \" + str(awarded))"
   ]
  },
  {
   "cell_type": "markdown",
   "metadata": {},
   "source": [
    "**Ejercicio 5**\n",
    "\n",
    "Escribir un programa que almacene en una lista los números del 1 al 10 y los muestre por pantalla en orden inverso separados por comas."
   ]
  },
  {
   "cell_type": "code",
   "execution_count": 12,
   "metadata": {},
   "outputs": [
    {
     "name": "stdout",
     "output_type": "stream",
     "text": [
      "10, 9, 8, 7, 6, 5, 4, 3, 2, 1, "
     ]
    }
   ],
   "source": [
    "numbers = [1, 2, 3, 4, 5, 6, 7, 8, 9, 10]\n",
    "for i in range(1, 11):\n",
    "    print(numbers[-i], end=\", \")"
   ]
  },
  {
   "cell_type": "markdown",
   "metadata": {},
   "source": [
    "**Ejercicio 6**\n",
    "\n",
    "Escribir un programa que almacene las asignaturas de un curso (por ejemplo Matemáticas, Física, Química, Historia e Idiomas) en una lista, pregunte al usuario la nota que ha sacado en cada asignatura y elimine de la lista las asignaturas aprobadas. Al final el programa debe mostrar por pantalla las asignaturas que el usuario tiene que repetir."
   ]
  },
  {
   "cell_type": "code",
   "execution_count": 14,
   "metadata": {},
   "outputs": [
    {
     "name": "stdout",
     "output_type": "stream",
     "text": [
      "Tienes que repetir ['Matemáticas', 'Historia']\n"
     ]
    }
   ],
   "source": [
    "subjects = [\"Matemáticas\", \"Física\", \"Química\", \"Historia\", \"Idiomas\"]\n",
    "passed = []\n",
    "for subject in subjects:\n",
    "    score = float(input(\"¿Qué nota has sacado en \" + subject + \"?\"))\n",
    "    if score >= 60:\n",
    "        passed.append(subject)\n",
    "for subject in passed:\n",
    "    subjects.remove(subject)\n",
    "print(\"Tienes que repetir \" + str(subjects))"
   ]
  },
  {
   "cell_type": "markdown",
   "metadata": {},
   "source": [
    "**Ejercicio  7**\n",
    "\n",
    "Escribir un programa que almacene el abecedario en una lista, elimine de la lista las letras que ocupen posiciones múltiplos de 3, y muestre por pantalla la lista resultante."
   ]
  },
  {
   "cell_type": "code",
   "execution_count": 15,
   "metadata": {},
   "outputs": [
    {
     "name": "stdout",
     "output_type": "stream",
     "text": [
      "['a', 'b', 'd', 'e', 'g', 'h', 'j', 'k', 'm', 'n', 'o', 'p', 'r', 's', 'u', 'v', 'x', 'y']\n"
     ]
    }
   ],
   "source": [
    "alphabet = ['a', 'b', 'c', 'd', 'e', 'f', 'g', 'h', 'i', 'j', 'k', 'l', 'm', 'n', 'ñ', 'o', 'p', 'q', 'r', 's', 't', 'u', 'v', 'w', 'x', 'y', 'z']\n",
    "for i in range(len(alphabet), 1, -1):\n",
    "    if i % 3 == 0:\n",
    "        alphabet.pop(i-1)\n",
    "print(alphabet)"
   ]
  },
  {
   "cell_type": "markdown",
   "metadata": {},
   "source": [
    "**Ejercicio 8**\n",
    "\n",
    "Escribir un programa que pida al usuario una palabra y muestre por pantalla si es un palíndromo."
   ]
  },
  {
   "cell_type": "code",
   "execution_count": 21,
   "metadata": {},
   "outputs": [
    {
     "name": "stdout",
     "output_type": "stream",
     "text": [
      "Es un palíndromo\n"
     ]
    }
   ],
   "source": [
    "word = input(\"Introduce una palabra: \")\n",
    "reversed_word = word\n",
    "word = list(word)\n",
    "reversed_word = list(reversed_word)\n",
    "reversed_word.reverse()\n",
    "if word == reversed_word:\n",
    "    print(\"Es un palíndromo\")\n",
    "else:\n",
    "    print(\"No es un palíndromo\")"
   ]
  },
  {
   "cell_type": "markdown",
   "metadata": {},
   "source": [
    "**Ejercicio 9**\n",
    "\n",
    "Escribir un programa que pida al usuario una palabra y muestre por pantalla el número de veces que contiene cada vocal."
   ]
  },
  {
   "cell_type": "code",
   "execution_count": 22,
   "metadata": {},
   "outputs": [
    {
     "name": "stdout",
     "output_type": "stream",
     "text": [
      "La vocal a aparece 1 veces\n",
      "La vocal e aparece 0 veces\n",
      "La vocal i aparece 2 veces\n",
      "La vocal o aparece 5 veces\n",
      "La vocal u aparece 0 veces\n"
     ]
    }
   ],
   "source": [
    "word = input(\"Introduce una palabra: \")\n",
    "vocals = ['a', 'e', 'i', 'o', 'u']\n",
    "for vocal in vocals:\n",
    "    times = 0\n",
    "    for letter in word:\n",
    "        if letter == vocal:\n",
    "            times += 1\n",
    "    print(\"La vocal \" + vocal + \" aparece \" + str(times) + \" veces\")"
   ]
  },
  {
   "cell_type": "markdown",
   "metadata": {},
   "source": [
    "**Ejercicio 10**\n",
    "\n",
    "Escribir un programa que almacene en una lista los siguientes precios, 790, 802, 910, 240, 430, 150, 20, y muestre por pantalla el menor y el mayor de los precios."
   ]
  },
  {
   "cell_type": "code",
   "execution_count": 25,
   "metadata": {},
   "outputs": [
    {
     "name": "stdout",
     "output_type": "stream",
     "text": [
      "El mínimo es 20\n",
      "El máximo es 910\n"
     ]
    }
   ],
   "source": [
    "prices = [790, 802, 910, 240, 430, 150, 20]\n",
    "min = max = prices[0]\n",
    "for price in prices:\n",
    "    if price < min:\n",
    "        min = price\n",
    "    elif price > max:\n",
    "        max = price\n",
    "print(\"El mínimo es \" + str(min))\n",
    "print(\"El máximo es \" + str(max))"
   ]
  }
 ],
 "metadata": {
  "kernelspec": {
   "display_name": "Python 3 (ipykernel)",
   "language": "python",
   "name": "python3"
  },
  "language_info": {
   "codemirror_mode": {
    "name": "ipython",
    "version": 3
   },
   "file_extension": ".py",
   "mimetype": "text/x-python",
   "name": "python",
   "nbconvert_exporter": "python",
   "pygments_lexer": "ipython3",
   "version": "3.8.17"
  }
 },
 "nbformat": 4,
 "nbformat_minor": 2
}
