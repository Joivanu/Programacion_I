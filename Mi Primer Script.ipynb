{
 "cells": [
  {
   "cell_type": "markdown",
   "metadata": {},
   "source": [
    "Mi primer script"
   ]
  },
  {
   "cell_type": "code",
   "execution_count": 1,
   "metadata": {},
   "outputs": [
    {
     "data": {
      "text/plain": [
       "5"
      ]
     },
     "execution_count": 1,
     "metadata": {},
     "output_type": "execute_result"
    }
   ],
   "source": [
    "2+3"
   ]
  },
  {
   "cell_type": "code",
   "execution_count": 2,
   "metadata": {},
   "outputs": [],
   "source": [
    "A=3;"
   ]
  },
  {
   "cell_type": "code",
   "execution_count": 3,
   "metadata": {},
   "outputs": [],
   "source": [
    "B=6"
   ]
  },
  {
   "cell_type": "code",
   "execution_count": 4,
   "metadata": {},
   "outputs": [],
   "source": [
    "C=A+B"
   ]
  },
  {
   "cell_type": "code",
   "execution_count": 5,
   "metadata": {},
   "outputs": [
    {
     "data": {
      "text/plain": [
       "9"
      ]
     },
     "execution_count": 5,
     "metadata": {},
     "output_type": "execute_result"
    }
   ],
   "source": [
    "C"
   ]
  },
  {
   "cell_type": "markdown",
   "metadata": {},
   "source": [
    "Multiplicacion de Variables"
   ]
  },
  {
   "cell_type": "code",
   "execution_count": 6,
   "metadata": {},
   "outputs": [
    {
     "data": {
      "text/plain": [
       "18"
      ]
     },
     "execution_count": 6,
     "metadata": {},
     "output_type": "execute_result"
    }
   ],
   "source": [
    "D=A*B\n",
    "D"
   ]
  },
  {
   "cell_type": "markdown",
   "metadata": {},
   "source": [
    "Suma de dos variables"
   ]
  },
  {
   "cell_type": "code",
   "execution_count": 3,
   "metadata": {},
   "outputs": [
    {
     "name": "stdout",
     "output_type": "stream",
     "text": [
      "la suma es: 15\n"
     ]
    }
   ],
   "source": [
    "num1 = 5\n",
    "num2 = 10\n",
    "suma = num1 + num2\n",
    "print(\"la suma es:\", suma)"
   ]
  },
  {
   "cell_type": "markdown",
   "metadata": {},
   "source": [
    "Resta de dos Variables"
   ]
  },
  {
   "cell_type": "code",
   "execution_count": 4,
   "metadata": {},
   "outputs": [
    {
     "name": "stdout",
     "output_type": "stream",
     "text": [
      "la resta es: 10\n"
     ]
    }
   ],
   "source": [
    "num1 = 20\n",
    "num2 = 10\n",
    "resta = num1 - num2\n",
    "print(\"la resta es:\", resta)"
   ]
  },
  {
   "cell_type": "markdown",
   "metadata": {},
   "source": [
    "Area de un Rectangulo, Circulo y Triangulo"
   ]
  },
  {
   "cell_type": "code",
   "execution_count": 24,
   "metadata": {},
   "outputs": [
    {
     "name": "stdout",
     "output_type": "stream",
     "text": [
      "el area del rectangulo es: 35\n",
      "el area del triangulo es: 9.0\n",
      "El area del circulo es:  78.54 m2\n"
     ]
    }
   ],
   "source": [
    "base = 5\n",
    "altura = 7\n",
    "area = (base * altura) \n",
    "print(\"el area del rectangulo es:\", area)\n",
    "\n",
    "base = 3\n",
    "altura = 6\n",
    "area = (base * altura) / 2\n",
    "print(\"el area del triangulo es:\", area)\n",
    "\n",
    "import math\n",
    "\n",
    "radio = 5\n",
    "circulo = math.pi * (radio ** 2)\n",
    "print('El area del circulo es: ', round(circulo, 2), 'm2')\n",
    "\n",
    "\n"
   ]
  },
  {
   "cell_type": "code",
   "execution_count": 25,
   "metadata": {},
   "outputs": [
    {
     "name": "stdout",
     "output_type": "stream",
     "text": [
      "la suma es : 210\n"
     ]
    }
   ],
   "source": [
    "n1 = input(\"introduce el primer valor:\")\n",
    "n2 = input(\"introduce el segundo valor:\")\n",
    "suma = n1 + n2\n",
    "print(\"la suma es :\", suma)"
   ]
  },
  {
   "cell_type": "code",
   "execution_count": 26,
   "metadata": {},
   "outputs": [
    {
     "name": "stdout",
     "output_type": "stream",
     "text": [
      "la suma es : 12\n"
     ]
    }
   ],
   "source": [
    "n1 = int(input(\"introduce el primer valor:\"))\n",
    "n2 = int(input(\"introduce el segundo valor:\"))\n",
    "suma = n1 + n2\n",
    "print(\"la suma es :\", suma)"
   ]
  },
  {
   "cell_type": "markdown",
   "metadata": {},
   "source": [
    "Area de un Rectangulo(4x5), Circulo(10) y Triangulo(8x4) con Inputs"
   ]
  },
  {
   "cell_type": "code",
   "execution_count": 30,
   "metadata": {},
   "outputs": [
    {
     "name": "stdout",
     "output_type": "stream",
     "text": [
      "el area del rectangulo es: 20\n",
      "el area del triangulo es: 16.0\n",
      "El area del circulo es:  16.0\n"
     ]
    }
   ],
   "source": [
    "base = int(input(\"Ingresa la base del rectangulo: \"))\n",
    "altura = int(input(\"Ingresa la altura del rectangulo: \"))\n",
    "area = (base * altura) \n",
    "print(f\"el area del rectangulo es:\", area)\n",
    "\n",
    "base = int(input(\"Ingresa la base del triangulo: \"))\n",
    "altura = int(input(\"Ingresa la altura del triangulo: \"))\n",
    "area = (base * altura) / 2\n",
    "print(f\"el area del triangulo es:\", area)\n",
    "\n",
    "import math\n",
    "\n",
    "radio = int(input(\"Ingresa el radio del círculo: \"))\n",
    "circulo = math.pi * (radio ** 2)\n",
    "print(f'El area del circulo es: ', area)\n"
   ]
  },
  {
   "cell_type": "markdown",
   "metadata": {},
   "source": [
    "Conversión de Celsius 25° a Fahrenheit"
   ]
  },
  {
   "cell_type": "code",
   "execution_count": 28,
   "metadata": {},
   "outputs": [
    {
     "name": "stdout",
     "output_type": "stream",
     "text": [
      "25.0 grados Celsius equivalen a 77.0 grados Fahrenheit\n"
     ]
    }
   ],
   "source": [
    "celsius = float(input(\"Ingresa la temperatura en grados Celsius: \"))\n",
    "fahrenheit = (celsius * 9/5) + 32\n",
    "print(f\"{celsius} grados Celsius equivalen a {fahrenheit} grados Fahrenheit\")"
   ]
  },
  {
   "cell_type": "markdown",
   "metadata": {},
   "source": [
    "Conversión de Fahrenheit 40° a Celsius"
   ]
  },
  {
   "cell_type": "code",
   "execution_count": 29,
   "metadata": {},
   "outputs": [
    {
     "name": "stdout",
     "output_type": "stream",
     "text": [
      "40.0 grados Fahrenheit equivalen a 4.444444444444445 grados Celsius\n"
     ]
    }
   ],
   "source": [
    "fahrenheit = float(input(\"Ingresa la temperatura en grados Fahrenheit: \"))\n",
    "celsius = (fahrenheit - 32) * 5/9\n",
    "print(f\"{fahrenheit} grados Fahrenheit equivalen a {celsius} grados Celsius\")"
   ]
  }
 ],
 "metadata": {
  "kernelspec": {
   "display_name": "progra_1",
   "language": "python",
   "name": "python3"
  },
  "language_info": {
   "codemirror_mode": {
    "name": "ipython",
    "version": 3
   },
   "file_extension": ".py",
   "mimetype": "text/x-python",
   "name": "python",
   "nbconvert_exporter": "python",
   "pygments_lexer": "ipython3",
   "version": "3.8.17"
  },
  "orig_nbformat": 4
 },
 "nbformat": 4,
 "nbformat_minor": 2
}
