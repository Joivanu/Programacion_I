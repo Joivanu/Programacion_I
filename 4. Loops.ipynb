{
 "cells": [
  {
   "cell_type": "markdown",
   "metadata": {},
   "source": [
    "## Bucles  o Loops"
   ]
  },
  {
   "cell_type": "markdown",
   "metadata": {},
   "source": [
    "Un bucle es una estructura de control que permite repetir un conjunto de instrucciones varias veces. Los bucles son una parte fundamental de la programación, ya que te permiten automatizar tareas que requieren repetición. Python admite dos tipos principales de bucles: el bucle \"for\" y el bucle \"while\".\n",
    "\n",
    "**Bucle \"for\"** : \n",
    "\n",
    "El bucle \"for\" se utiliza para iterar sobre una secuencia (como una lista, una tupla, una cadena de caracteres o un rango numérico) y ejecutar un bloque de código para cada elemento de la secuencia. Aquí tienes un ejemplo de un bucle \"for\" que recorre una lista de números e imprime cada número:\n"
   ]
  },
  {
   "cell_type": "code",
   "execution_count": 2,
   "metadata": {},
   "outputs": [],
   "source": [
    "#numeros = [1, 2, 3, 4, 5]\n",
    "#for numero in numeros:\n",
    "#    print(numero)"
   ]
  },
  {
   "cell_type": "markdown",
   "metadata": {},
   "source": [
    "**Bucle \"while\"** :\n",
    "\n",
    "El bucle \"while\" se utiliza para repetir un bloque de código mientras una condición sea verdadera. En otras palabras, el bucle continuará ejecutándose mientras la condición especificada sea cierta. Aquí tienes un ejemplo de un bucle \"while\" que cuenta del 1 al 5:"
   ]
  },
  {
   "cell_type": "code",
   "execution_count": 1,
   "metadata": {},
   "outputs": [],
   "source": [
    "#contador = 1\n",
    "#while contador <= 5:\n",
    "#    print(contador)\n",
    "#    contador += 1"
   ]
  },
  {
   "cell_type": "markdown",
   "metadata": {},
   "source": [
    "**Ejercicio 1**\n",
    "\n",
    "Escribir un programa que pida al usuario una palabra y la muestre 15 veces por pantalla."
   ]
  },
  {
   "cell_type": "code",
   "execution_count": 13,
   "metadata": {},
   "outputs": [
    {
     "name": "stdout",
     "output_type": "stream",
     "text": [
      "Dinosaurio\n",
      "Dinosaurio\n",
      "Dinosaurio\n",
      "Dinosaurio\n",
      "Dinosaurio\n",
      "Dinosaurio\n",
      "Dinosaurio\n",
      "Dinosaurio\n",
      "Dinosaurio\n",
      "Dinosaurio\n",
      "Dinosaurio\n",
      "Dinosaurio\n",
      "Dinosaurio\n",
      "Dinosaurio\n",
      "Dinosaurio\n"
     ]
    }
   ],
   "source": [
    "palabra = input(\"Introduce una palabra: \")\n",
    "for i in range(15):\n",
    "    print(palabra)"
   ]
  },
  {
   "cell_type": "markdown",
   "metadata": {},
   "source": [
    "**Ejercicio  2**\n",
    "\n",
    "Escribir un programa que pregunte al usuario su edad y muestre por pantalla todos los años que ha cumplido (desde 1 hasta su edad)."
   ]
  },
  {
   "cell_type": "code",
   "execution_count": 6,
   "metadata": {},
   "outputs": [
    {
     "name": "stdout",
     "output_type": "stream",
     "text": [
      "Has cumplido 1 años\n",
      "Has cumplido 2 años\n",
      "Has cumplido 3 años\n",
      "Has cumplido 4 años\n",
      "Has cumplido 5 años\n",
      "Has cumplido 6 años\n",
      "Has cumplido 7 años\n",
      "Has cumplido 8 años\n",
      "Has cumplido 9 años\n",
      "Has cumplido 10 años\n",
      "Has cumplido 11 años\n",
      "Has cumplido 12 años\n",
      "Has cumplido 13 años\n",
      "Has cumplido 14 años\n",
      "Has cumplido 15 años\n",
      "Has cumplido 16 años\n",
      "Has cumplido 17 años\n",
      "Has cumplido 18 años\n",
      "Has cumplido 19 años\n",
      "Has cumplido 20 años\n",
      "Has cumplido 21 años\n",
      "Has cumplido 22 años\n",
      "Has cumplido 23 años\n",
      "Has cumplido 24 años\n",
      "Has cumplido 25 años\n",
      "Has cumplido 26 años\n",
      "Has cumplido 27 años\n",
      "Has cumplido 28 años\n",
      "Has cumplido 29 años\n"
     ]
    }
   ],
   "source": [
    "años = int(input(\"¿Que edad tienes? \"))\n",
    "for i in range(años):\n",
    "    print(\"Has cumplido \" + str(i+1) + \" años\")"
   ]
  },
  {
   "cell_type": "markdown",
   "metadata": {},
   "source": [
    "**Ejercicio 3**\n",
    "\n",
    "Escribir un programa que pida al usuario un número entero positivo y muestre por pantalla todos los números impares desde 1 hasta ese número separados por comas."
   ]
  },
  {
   "cell_type": "code",
   "execution_count": 8,
   "metadata": {},
   "outputs": [
    {
     "name": "stdout",
     "output_type": "stream",
     "text": [
      "1, 3, 5, 7, 9, 11, 13, 15, 17, 19, 21, 23, 25, 27, 29, 31, 33, 35, "
     ]
    }
   ],
   "source": [
    "n = int(input(\"Introduce un número entero positivo: \"))\n",
    "for i in range(1, n+1, 2):\n",
    "    print(i, end=\", \")"
   ]
  },
  {
   "cell_type": "markdown",
   "metadata": {},
   "source": [
    "**Ejercicio 4**\n",
    "\n",
    "Escribir un programa que pida al usuario un número entero positivo y muestre por pantalla la cuenta atrás desde ese número hasta cero separados por comas."
   ]
  },
  {
   "cell_type": "code",
   "execution_count": 10,
   "metadata": {},
   "outputs": [
    {
     "name": "stdout",
     "output_type": "stream",
     "text": [
      "35, 34, 33, 32, 31, 30, 29, 28, 27, 26, 25, 24, 23, 22, 21, 20, 19, 18, 17, 16, 15, 14, 13, 12, 11, 10, 9, 8, 7, 6, 5, 4, 3, 2, 1, 0, "
     ]
    }
   ],
   "source": [
    "n = int(input(\"Introduce un número entero positivo: \"))\n",
    "for i in range(n, -1, -1):\n",
    "    print(i, end=\", \")"
   ]
  },
  {
   "cell_type": "markdown",
   "metadata": {},
   "source": [
    "**Ejercicio 5**\n",
    "\n",
    "Escribir un programa que pregunte al usuario una cantidad a invertir, el interés anual y el número de años, y muestre por pantalla el capital obtenido en la inversión cada año que dura la inversión."
   ]
  },
  {
   "cell_type": "code",
   "execution_count": 15,
   "metadata": {},
   "outputs": [
    {
     "name": "stdout",
     "output_type": "stream",
     "text": [
      "Capital tras 1 años: 55500.0\n",
      "Capital tras 2 años: 61605.0\n",
      "Capital tras 3 años: 68381.55\n",
      "Capital tras 4 años: 75903.52\n",
      "Capital tras 5 años: 84252.91\n",
      "Capital tras 6 años: 93520.73\n",
      "Capital tras 7 años: 103808.01\n",
      "Capital tras 8 años: 115226.89\n",
      "Capital tras 9 años: 127901.85\n",
      "Capital tras 10 años: 141971.05\n",
      "Capital tras 11 años: 157587.86\n",
      "Capital tras 12 años: 174922.53\n",
      "Capital tras 13 años: 194164.01\n",
      "Capital tras 14 años: 215522.05\n",
      "Capital tras 15 años: 239229.47\n",
      "Capital tras 16 años: 265544.72\n",
      "Capital tras 17 años: 294754.64\n",
      "Capital tras 18 años: 327177.65\n",
      "Capital tras 19 años: 363167.19\n",
      "Capital tras 20 años: 403115.58\n"
     ]
    }
   ],
   "source": [
    "monto = float(input(\"¿Cantidad a invertir? \"))\n",
    "interes = float(input(\"¿Interés porcentual anual? \"))\n",
    "años = int(input(\"¿Años?\"))\n",
    "for i in range(años):\n",
    "    monto *= 1 + interes / 100 \n",
    "    print(\"Capital tras \" + str(i+1) + \" años: \" + str(round(monto, 2)))"
   ]
  },
  {
   "cell_type": "markdown",
   "metadata": {},
   "source": [
    "**Ejercicio 6**\n",
    "\n",
    "\n",
    "Escribir un programa que pida al usuario un número entero y muestre por pantalla un triángulo rectángulo como el de más abajo, de altura el número introducido.\n",
    "\n",
    "```\n",
    "*\n",
    "**\n",
    "***\n",
    "****\n",
    "*****\n",
    "```"
   ]
  },
  {
   "cell_type": "code",
   "execution_count": 16,
   "metadata": {},
   "outputs": [
    {
     "name": "stdout",
     "output_type": "stream",
     "text": [
      "*\n",
      "**\n",
      "***\n",
      "****\n",
      "*****\n",
      "******\n",
      "*******\n",
      "********\n",
      "*********\n",
      "**********\n",
      "***********\n",
      "************\n",
      "*************\n",
      "**************\n",
      "***************\n",
      "****************\n",
      "*****************\n",
      "******************\n",
      "*******************\n",
      "********************\n"
     ]
    }
   ],
   "source": [
    "n = int(input(\"Introduce la altura del triángulo (entero positivo): \"))\n",
    "for i in range(n):\n",
    "    for j in range(i+1):\n",
    "        print(\"*\", end=\"\")\n",
    "    print(\"\")"
   ]
  },
  {
   "cell_type": "markdown",
   "metadata": {},
   "source": [
    "**Ejercicio 7**\n",
    "\n",
    "Escribir un programa que muestre por pantalla la tabla de multiplicar del 1 al 12."
   ]
  },
  {
   "cell_type": "code",
   "execution_count": 18,
   "metadata": {},
   "outputs": [
    {
     "name": "stdout",
     "output_type": "stream",
     "text": [
      "1\t2\t3\t4\t5\t6\t7\t8\t9\t10\t11\t12\t\n",
      "2\t4\t6\t8\t10\t12\t14\t16\t18\t20\t22\t24\t\n",
      "3\t6\t9\t12\t15\t18\t21\t24\t27\t30\t33\t36\t\n",
      "4\t8\t12\t16\t20\t24\t28\t32\t36\t40\t44\t48\t\n",
      "5\t10\t15\t20\t25\t30\t35\t40\t45\t50\t55\t60\t\n",
      "6\t12\t18\t24\t30\t36\t42\t48\t54\t60\t66\t72\t\n",
      "7\t14\t21\t28\t35\t42\t49\t56\t63\t70\t77\t84\t\n",
      "8\t16\t24\t32\t40\t48\t56\t64\t72\t80\t88\t96\t\n",
      "9\t18\t27\t36\t45\t54\t63\t72\t81\t90\t99\t108\t\n",
      "10\t20\t30\t40\t50\t60\t70\t80\t90\t100\t110\t120\t\n",
      "11\t22\t33\t44\t55\t66\t77\t88\t99\t110\t121\t132\t\n",
      "12\t24\t36\t48\t60\t72\t84\t96\t108\t120\t132\t144\t\n"
     ]
    }
   ],
   "source": [
    "for i in range(1, 13):\n",
    "    for j in range(1, 13):\n",
    "        print(i*j, end=\"\\t\")\n",
    "    print(\"\")"
   ]
  },
  {
   "cell_type": "markdown",
   "metadata": {},
   "source": [
    "**Ejercicio 8**\n",
    "\n",
    "Escribir un programa que pida al usuario un número entero y muestre por pantalla un triángulo rectángulo como el de más abajo, de altura el número introducido.\n",
    "\n",
    "```\n",
    "1\n",
    "3 1\n",
    "5 3 1\n",
    "7 5 3 1\n",
    "9 7 5 3 1\n",
    "```"
   ]
  },
  {
   "cell_type": "code",
   "execution_count": 19,
   "metadata": {},
   "outputs": [
    {
     "name": "stdout",
     "output_type": "stream",
     "text": [
      "1 \n",
      "3 1 \n",
      "5 3 1 \n",
      "7 5 3 1 \n",
      "9 7 5 3 1 \n",
      "11 9 7 5 3 1 \n",
      "13 11 9 7 5 3 1 \n",
      "15 13 11 9 7 5 3 1 \n",
      "17 15 13 11 9 7 5 3 1 \n",
      "19 17 15 13 11 9 7 5 3 1 \n",
      "21 19 17 15 13 11 9 7 5 3 1 \n",
      "23 21 19 17 15 13 11 9 7 5 3 1 \n",
      "25 23 21 19 17 15 13 11 9 7 5 3 1 \n",
      "27 25 23 21 19 17 15 13 11 9 7 5 3 1 \n",
      "29 27 25 23 21 19 17 15 13 11 9 7 5 3 1 \n"
     ]
    }
   ],
   "source": [
    "n = int(input(\"Introduce la altura del triángulo (entero positivo): \"))\n",
    "for i in range(1, n+1, 2):\n",
    "    for j in range(i, 0, -2):\n",
    "        print(j, end=\" \")\n",
    "    print(\"\")"
   ]
  },
  {
   "cell_type": "markdown",
   "metadata": {},
   "source": [
    "**Ejercicio 9**\n",
    "\n",
    "Escribir un programa que almacene la cadena de caracteres `contraseña` en una variable, pregunte al usuario por la contraseña hasta que introduzca la contraseña correcta."
   ]
  },
  {
   "cell_type": "code",
   "execution_count": 23,
   "metadata": {},
   "outputs": [
    {
     "name": "stdout",
     "output_type": "stream",
     "text": [
      "Contraseña correcta\n"
     ]
    }
   ],
   "source": [
    "clave = \"120794\"\n",
    "contraseña =\"\"\n",
    "while contraseña != clave:\n",
    "    contraseña = input(\"Introduce la contraseña: \")\n",
    "print(\"Contraseña correcta\")"
   ]
  },
  {
   "cell_type": "markdown",
   "metadata": {},
   "source": [
    "**Ejercicio 10**\n",
    "\n",
    "Escribir un programa que pida al usuario un número entero positivo mayor que 2 y muestre por pantalla si es un número primo o no."
   ]
  },
  {
   "cell_type": "code",
   "execution_count": 29,
   "metadata": {},
   "outputs": [
    {
     "name": "stdout",
     "output_type": "stream",
     "text": [
      "37 es primo\n"
     ]
    }
   ],
   "source": [
    "n = int(input(\"Introduce un número entero positivo mayor que 2: \"))\n",
    "i = 2\n",
    "while n % i != 0:\n",
    "    i += 1\n",
    "if i == n:\n",
    "    print(str(n) + \" es primo\")\n",
    "else:\n",
    "    print(str(n) + \" no es primo\")"
   ]
  }
 ],
 "metadata": {
  "kernelspec": {
   "display_name": "Python 3 (ipykernel)",
   "language": "python",
   "name": "python3"
  },
  "language_info": {
   "codemirror_mode": {
    "name": "ipython",
    "version": 3
   },
   "file_extension": ".py",
   "mimetype": "text/x-python",
   "name": "python",
   "nbconvert_exporter": "python",
   "pygments_lexer": "ipython3",
   "version": "3.8.17"
  }
 },
 "nbformat": 4,
 "nbformat_minor": 2
}
