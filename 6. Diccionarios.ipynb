{
 "cells": [
  {
   "cell_type": "markdown",
   "metadata": {},
   "source": [
    "## Diccionarios\n",
    "\n",
    "Los diccionarios en Python son una estructura de datos que permite almacenar pares de clave-valor. Cada clave está asociada a un valor, y puedes usar la clave para acceder al valor correspondiente. Aquí está cómo funcionan:\n",
    "\n",
    "* Crear un Diccionario\n",
    "\n",
    "Para crear un diccionario, utiliza llaves {} para encerrar los pares de clave-valor, con los pares separados por comas."
   ]
  }
 ],
 "metadata": {
  "kernelspec": {
   "display_name": "Python 3 (ipykernel)",
   "language": "python",
   "name": "python3"
  },
  "language_info": {
   "codemirror_mode": {
    "name": "ipython",
    "version": 3
   },
   "file_extension": ".py",
   "mimetype": "text/x-python",
   "name": "python",
   "nbconvert_exporter": "python",
   "pygments_lexer": "ipython3",
   "version": "3.8.17"
  }
 },
 "nbformat": 4,
 "nbformat_minor": 2
}
