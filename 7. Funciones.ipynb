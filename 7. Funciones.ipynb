{
 "cells": [
  {
   "cell_type": "markdown",
   "metadata": {},
   "source": [
    "## Funciones\n",
    "\n",
    "Las funciones en Python son bloques de código que están diseñados para hacer una tarea específica. Una vez que se define una función, puede ser reutilizada a lo largo de un programa. Esto ayuda a hacer los programas más organizados, reutilizables y fáciles de mantener.\n",
    "\n",
    "Aquí está la estructura básica de una función en Python:"
   ]
  },
  {
   "cell_type": "code",
   "execution_count": null,
   "metadata": {},
   "outputs": [],
   "source": [
    "# def nombre_de_la_funcion(parametro1, parametro2, ...):\n",
    "    # Cuerpo de la función\n",
    "    # ...\n",
    "#     return valor_de_retorno"
   ]
  },
  {
   "cell_type": "markdown",
   "metadata": {},
   "source": [
    "**def:** Es la palabra clave que se utiliza para definir una nueva función.\n",
    "\n",
    "**nombre_de_la_funcion:** Es el nombre que se le da a la función. Debe ser único y descriptivo.\n",
    "\n",
    "**parametro1, parametro2, ...:** Son los parámetros de la función, que son los valores que la función puede recibir como entrada.\n",
    "\n",
    "**Cuerpo de la función:**  Es donde se coloca el código que define lo que hace la función.\n",
    "\n",
    "**return:** Es la palabra clave que se utiliza para retornar un valor de la función. Si no se especifica un valor de retorno, la función retornará None por defecto.\n",
    "\n",
    "**valor_de_retorno:** Es el valor que la función retorna cuando se ejecuta."
   ]
  },
  {
   "cell_type": "code",
   "execution_count": 2,
   "metadata": {},
   "outputs": [
    {
     "name": "stdout",
     "output_type": "stream",
     "text": [
      "8\n"
     ]
    }
   ],
   "source": [
    "# Ejemplo de SUMA\n",
    "\n",
    "def sumar_dos_numeros(num1, num2):\n",
    "    suma = num1 + num2\n",
    "    return suma\n",
    "\n",
    "# Uso de la función\n",
    "resultado = sumar_dos_numeros(5, 3)\n",
    "print(resultado)  # Salida: 8"
   ]
  },
  {
   "cell_type": "markdown",
   "metadata": {},
   "source": [
    "### Ejercicio 1\n",
    "\n",
    "Escribir una función que muestre por pantalla el saludo `¡Hola amiga!` cada vez que se la invoque."
   ]
  },
  {
   "cell_type": "code",
   "execution_count": 5,
   "metadata": {},
   "outputs": [
    {
     "name": "stdout",
     "output_type": "stream",
     "text": [
      "¡Hola Buen Amigo!\n"
     ]
    }
   ],
   "source": [
    "def greet():\n",
    "    \"\"\"Función que muestra el saludo ¡Hola amiga! por pantalla.\"\"\"\n",
    "    print('¡Hola Buen Amigo!')\n",
    "    return\n",
    "\n",
    "greet()"
   ]
  },
  {
   "cell_type": "markdown",
   "metadata": {},
   "source": [
    "### Ejercicio 2\n",
    "\n",
    "Escribir una función a la que se le pase una cadena `<nombre>` y muestre por pantalla el saludo `¡hola <nombre>!`."
   ]
  },
  {
   "cell_type": "code",
   "execution_count": 7,
   "metadata": {},
   "outputs": [
    {
     "name": "stdout",
     "output_type": "stream",
     "text": [
      "¡Hola Santi!\n",
      "¡Hola Ivan!\n",
      "¡Hola Aaron!\n"
     ]
    }
   ],
   "source": [
    "def greet(nombre):\n",
    "    \"\"\"Función que muestra un saludo por pantalla.\n",
    "    Parámetros\n",
    "    nombre: Nombre del usuario\n",
    "    Devuelve el saludo ¡Hola nombre!.\n",
    "    \"\"\"\n",
    "    print('¡Hola ' + nombre +'!')\n",
    "    return\n",
    "\n",
    "greet('Santi')\n",
    "greet('Ivan')\n",
    "greet('Aaron')"
   ]
  },
  {
   "cell_type": "markdown",
   "metadata": {},
   "source": [
    "### Ejercicio 3\n",
    "\n",
    "Escribir una función que reciba un número entero positivo y devuelva su factorial."
   ]
  },
  {
   "cell_type": "code",
   "execution_count": 10,
   "metadata": {},
   "outputs": [
    {
     "name": "stdout",
     "output_type": "stream",
     "text": [
      "40320\n",
      "403291461126605635584000000\n"
     ]
    }
   ],
   "source": [
    "def factorial(n):\n",
    "    \"\"\"Función que calcula el factorial de un número entero positivo.\n",
    "    Parámetros\n",
    "    n: Es un entero positivo.\n",
    "    Devuelve el factorial de n.\n",
    "    \"\"\"\n",
    "    tmp = 1\n",
    "    for i in range(n):\n",
    "        tmp *= i+1\n",
    "    return tmp\n",
    "\n",
    "print(factorial(8))\n",
    "print(factorial(26))"
   ]
  },
  {
   "cell_type": "markdown",
   "metadata": {},
   "source": [
    "### Ejercicio 4\n",
    "\n",
    "Escribir una función que calcule el total de una factura tras aplicarle el IVA. La función debe recibir la cantidad sin IVA y el porcentaje de IVA a aplicar, y devolver el total de la factura. Si se invoca la función sin pasarle el porcentaje de IVA, deberá aplicar un 21%."
   ]
  },
  {
   "cell_type": "code",
   "execution_count": 18,
   "metadata": {},
   "outputs": [
    {
     "name": "stdout",
     "output_type": "stream",
     "text": [
      "23100.0\n",
      "24360.0\n"
     ]
    }
   ],
   "source": [
    "def invoice(amount, iva=16):\n",
    "    \"\"\"Función de aplica el IVA a una factura.\n",
    "    Parametros\n",
    "    amount: Es la cantidad sin IVA\n",
    "    IVA: Es el porcentaje de IVA\n",
    "    Devuelve el total de la factura una vez aplicado el IVA.\n",
    "    \"\"\"\n",
    "    return amount + amount*iva/100\n",
    "\n",
    "print(invoice(21000,10))\n",
    "print(invoice(21000))"
   ]
  },
  {
   "cell_type": "markdown",
   "metadata": {},
   "source": [
    "### Ejercicio 5\n",
    "\n",
    "Escribir una función que calcule el área de un círculo y otra que calcule el volumen de un cilindro usando la primera función."
   ]
  },
  {
   "cell_type": "code",
   "execution_count": 21,
   "metadata": {},
   "outputs": [
    {
     "name": "stdout",
     "output_type": "stream",
     "text": [
      "1017.8460000000001\n"
     ]
    }
   ],
   "source": [
    "def circle_area(radius):\n",
    "    \"\"\"Función que calcula el area de un círculo.\n",
    "    Parámetros\n",
    "    radius: Es el radio del círculo.\n",
    "    Devuelve el área del círculo de radio radius.\n",
    "    \"\"\"\n",
    "    pi = 3.1415\n",
    "    return pi*radius**2\n",
    "\n",
    "def cilinder_volume(radius, high):\n",
    "    \"\"\"Función que calcula el volumen de un cilindro.\n",
    "    Parámetros\n",
    "    radius: Es el radio de la base del cilindro.\n",
    "    high: Es la altura del cilindro.\n",
    "    Devuelve el volumen del clindro de radio radius y altura high.\n",
    "    \"\"\"\n",
    "    return circle_area(radius)*high\n",
    "\n",
    "print(cilinder_volume(6,9))"
   ]
  },
  {
   "cell_type": "markdown",
   "metadata": {},
   "source": [
    "### Ejercicio 6\n",
    "\n",
    "Escribir una función que reciba una muestra de números en una lista y devuelva su media, varianza y desviación típica en un diccionario."
   ]
  },
  {
   "cell_type": "code",
   "execution_count": 23,
   "metadata": {},
   "outputs": [
    {
     "name": "stdout",
     "output_type": "stream",
     "text": [
      "17.0\n"
     ]
    }
   ],
   "source": [
    "def mean(sample):\n",
    "    \"\"\"Función que calcula la media de una muestra de números.\n",
    "    Parámetros\n",
    "    sample: Es una lista de números\n",
    "    Devuelve la media de los números en sample.\n",
    "    \"\"\"\n",
    "    return sum(sample)/len(sample)\n",
    "\n",
    "print(mean([14, 15, 17, 19, 20]))"
   ]
  },
  {
   "cell_type": "markdown",
   "metadata": {},
   "source": [
    "### Ejercicio 7\n",
    "\n",
    "Escribir una función que reciba una muestra de números en una lista y devuelva otra lista con sus cuadrados."
   ]
  },
  {
   "cell_type": "code",
   "execution_count": 25,
   "metadata": {},
   "outputs": [
    {
     "name": "stdout",
     "output_type": "stream",
     "text": [
      "[25, 36, 49, 64, 81]\n",
      "[28.09, 44.89, 60.839999999999996, 75.68999999999998, 102.00999999999999, 345.96000000000004]\n"
     ]
    }
   ],
   "source": [
    "def square(sample):\n",
    "    \"\"\"Función que calcula los cuadrados de una lista de números.\n",
    "    Parámetros\n",
    "    sample: Es una lista de números\n",
    "    Devuelve una lista con los cuadrados de los números de la lista sample.\n",
    "    \"\"\"\n",
    "    list = []\n",
    "    for i in sample:\n",
    "        list.append(i**2)\n",
    "    return list\n",
    "\n",
    "print(square([5, 6, 7, 8, 9]))\n",
    "print(square([5.3, 6.7, 7.8, 8.7, 10.1, 18.6]))"
   ]
  },
  {
   "cell_type": "markdown",
   "metadata": {},
   "source": [
    "### Ejercicio 8\n",
    "\n",
    "Escribir una función que reciba una muestra de números en una lista y devuelva un diccionario con su media, varianza y desviación típica."
   ]
  },
  {
   "cell_type": "code",
   "execution_count": 26,
   "metadata": {},
   "outputs": [
    {
     "name": "stdout",
     "output_type": "stream",
     "text": [
      "{'media': 7.0, 'varianza': 2.0, 'desviacion tipica': 1.4142135623730951}\n",
      "{'media': 9.533333333333333, 'varianza': 18.695555555555558, 'desviacion tipica': 4.323835745672534}\n"
     ]
    }
   ],
   "source": [
    "def square(sample):\n",
    "    \"\"\"Función que calcula los cuadrados de una lista de números.\n",
    "    Parámetros\n",
    "    sample: Es una lista de números\n",
    "    Devuelve una lista con los cuadrados de los números de la lista sample.\n",
    "    \"\"\"\n",
    "    list = []\n",
    "    for i in sample:\n",
    "        list.append(i**2)\n",
    "    return list\n",
    "\n",
    "def statistics(sample):\n",
    "    \"\"\"Función que calcula la media, varianza y desviación típica de una muestra de números.\n",
    "    Parámetros\n",
    "    sample: Es una lista de números\n",
    "    Devuelve un diccionario con la media, varianza y desviación típica de los números en sample.\n",
    "    \"\"\"\n",
    "    stat = {}\n",
    "    stat['media'] = sum(sample)/len(sample)\n",
    "    stat['varianza'] = sum(square(sample))/len(sample)-stat['media']**2\n",
    "    stat['desviacion tipica'] = stat['varianza']**0.5\n",
    "    return stat\n",
    "\n",
    "print(statistics([5, 6, 7, 8, 9]))\n",
    "print(statistics([5.3, 6.7, 7.8, 8.7, 10.1, 18.6]))"
   ]
  },
  {
   "cell_type": "markdown",
   "metadata": {},
   "source": [
    "### Ejercicio 9\n",
    "\n",
    "Escribir una función que calcule el máximo común divisor de dos números y otra que calcule el mínimo común múltiplo."
   ]
  },
  {
   "cell_type": "code",
   "execution_count": 28,
   "metadata": {},
   "outputs": [
    {
     "name": "stdout",
     "output_type": "stream",
     "text": [
      "6\n",
      "528\n"
     ]
    }
   ],
   "source": [
    "def mcd(n, m):\n",
    "    \"\"\"Función que calcula el máximo común divisor de dos números.\n",
    "    Parámetros:\n",
    "        - n: Es un número entero.\n",
    "        - m: Es un número entero.\n",
    "    Devuelve:\n",
    "        El máximo común divisor de n y m.\n",
    "    \"\"\"\n",
    "    rest = 0\n",
    "    while(m > 0):\n",
    "        rest = m\n",
    "        m = n % m\n",
    "        n = rest\n",
    "    return n\n",
    "\n",
    "def mcm(n, m):\n",
    "    \"\"\"Función que calcula el mínimo común múltiplo de dos números.\n",
    "    Parámetros:\n",
    "        - n: Es un número entero.\n",
    "        - m: Es un número entero.\n",
    "    Devuelve:\n",
    "        El mínimo común múltiplo de n y m.\n",
    "    \"\"\"\n",
    "    if n > m:\n",
    "        greater = n\n",
    "    else:\n",
    "        greater = m\n",
    "    while (greater % n != 0) or (greater % m != 0):\n",
    "        greater += 1\n",
    "    return greater\n",
    "\n",
    "print(mcd(48,66))\n",
    "print(mcm(48,66))"
   ]
  },
  {
   "cell_type": "markdown",
   "metadata": {},
   "source": [
    "### Ejercicio 10\n",
    "\n",
    "Escribir una función que convierta un número decimal en binario y otra que convierta un número binario en decimal."
   ]
  },
  {
   "cell_type": "code",
   "execution_count": 30,
   "metadata": {},
   "outputs": [
    {
     "name": "stdout",
     "output_type": "stream",
     "text": [
      "18\n",
      "100111\n",
      "10\n",
      "100110\n"
     ]
    }
   ],
   "source": [
    "def to_decimal(n):\n",
    "    \"\"\"Función que convierte un número binario en decimal.\n",
    "    Parámetros:\n",
    "        - n: Es una cadena de ceros y unos.\n",
    "    Devuelve:\n",
    "        El número decimal correspondiente a n.\n",
    "    \"\"\"\n",
    "    n = list(n)\n",
    "    n.reverse()\n",
    "    decimal = 0\n",
    "    for i in range(len(n)):\n",
    "        decimal += int(n[i]) * 2 ** i\n",
    "    return decimal\n",
    "\n",
    "def to_binary(n):\n",
    "    \"\"\"Función que convierte un número decimal en binario.\n",
    "    Parámetros:\n",
    "        - n: Es un número entero.\n",
    "    Devuelve:\n",
    "        El número binario correspondiente a n.\n",
    "    \"\"\"\n",
    "    binary = []\n",
    "    while n > 0:\n",
    "        binary.append(str(n % 2))\n",
    "        n //= 2\n",
    "    binary.reverse()\n",
    "    return ''.join(binary)\n",
    "\n",
    "print(to_decimal('00010010'))\n",
    "print(to_binary(39))\n",
    "print(to_decimal(to_binary(10)))\n",
    "print(to_binary(to_decimal('00100110')))\n"
   ]
  }
 ],
 "metadata": {
  "kernelspec": {
   "display_name": "Python 3 (ipykernel)",
   "language": "python",
   "name": "python3"
  },
  "language_info": {
   "codemirror_mode": {
    "name": "ipython",
    "version": 3
   },
   "file_extension": ".py",
   "mimetype": "text/x-python",
   "name": "python",
   "nbconvert_exporter": "python",
   "pygments_lexer": "ipython3",
   "version": "3.8.17"
  }
 },
 "nbformat": 4,
 "nbformat_minor": 2
}
