{
 "cells": [
  {
   "cell_type": "markdown",
   "metadata": {},
   "source": [
    "## Desafío 6: Contador de Palabras\n",
    "\n",
    "Crea un script que lea un archivo de texto y cuente el número de ocurrencias de cada palabra en el archivo. Luego, deberá escribir estas estadísticas en un nuevo archivo.\n",
    "\n",
    "_“En un universo de palabras, cada término sirve como un vórtice de significado, y la frecuencia de cada palabra puede ser tan reveladora como su presencia. Hoy, nos embarcamos en una expedición cuantitativa, donde no solo leemos texto, sino que escudriñamos las profundidades de su composición, desentrañando el peso de cada palabra en el tapiz de su narrativa.\n",
    "Este desafío es para los curiosos de corazón, aquellos que miran más allá de las frases y buscan entender el 'cómo' y el 'cuánto' del lenguaje que consumimos. ¿Alguna vez te has preguntado qué palabras dominan tus páginas favoritas, o cuál es el léxico preferido de los autores que admiras? Aquí está tu oportunidad de descubrirlo.\n",
    "Tu tarea es desarrollar un script, un contador astuto y meticuloso, capaz de recorrer la extensión de un documento, palabra por palabra, contabilizando cada aparición. Este script no es solo un programa, es un cartógrafo lingüístico, trazando la topografía de la terminología en cualquier texto dado.\n",
    "El fruto de tu esfuerzo no se perderá en la consola o será efímero en la pantalla. Tu script irá un paso más allá, inmortalizando su análisis en un nuevo archivo, un compendio de conocimiento que detalla la abundancia o la escasez de cada término. Este archivo se convertirá en el espejo numérico del original, reflejando no historias o ideas, sino la arquitectura de su expresión.\n",
    "Este es un llamado no solo a los programadores, sino también a los lingüistas, a los amantes de los libros y a los analistas de datos. ¿Estás preparado para desenterrar las estadísticas ocultas en los pliegues de los párrafos y exponer la anatomía de la escritura a través de números y listas? Enciende tu IDE, prepara tus dedos sobre el teclado, y comienza la caza de palabras.”_"
   ]
  },
  {
   "cell_type": "code",
   "execution_count": 2,
   "metadata": {},
   "outputs": [],
   "source": [
    "import string"
   ]
  },
  {
   "cell_type": "code",
   "execution_count": 15,
   "metadata": {},
   "outputs": [
    {
     "name": "stdout",
     "output_type": "stream",
     "text": [
      "Conteo de palabras completado. Resultados guardados en estadisticas_palabras.txt\n"
     ]
    }
   ],
   "source": [
    "def contar_palabras(archivo_entrada, archivo_salida):\n",
    "    # Leer el contenido del archivo\n",
    "    with open(archivo_entrada, 'r', encoding='utf-8') as file:\n",
    "        contenido = file.read()\n",
    "\n",
    "    # Limpiar el contenido y dividir en palabras\n",
    "    palabras = [palabra.strip(string.punctuation).lower() for palabra in contenido.split()]\n",
    "\n",
    "    # Contar las ocurrencias de cada palabra\n",
    "    contador_palabras = {}\n",
    "    for palabra in palabras:\n",
    "        contador_palabras[palabra] = contador_palabras.get(palabra, 0) + 1\n",
    "\n",
    "    # Escribir las estadísticas en un nuevo archivo\n",
    "    with open(archivo_salida, 'w', encoding='utf-8') as file:\n",
    "        for palabra, conteo in contador_palabras.items():\n",
    "            file.write(f\"{palabra}: {conteo}\\n\")\n",
    "\n",
    "    print(f\"Conteo de palabras completado. Resultados guardados en {archivo_salida}\")\n",
    "\n",
    "# Ejecutar la función con los archivos proporcionados\n",
    "contar_palabras('archivo Ch-6.txt', 'estadisticas_palabras.txt')"
   ]
  }
 ],
 "metadata": {
  "kernelspec": {
   "display_name": "Python 3 (ipykernel)",
   "language": "python",
   "name": "python3"
  },
  "language_info": {
   "codemirror_mode": {
    "name": "ipython",
    "version": 3
   },
   "file_extension": ".py",
   "mimetype": "text/x-python",
   "name": "python",
   "nbconvert_exporter": "python",
   "pygments_lexer": "ipython3",
   "version": "3.8.17"
  }
 },
 "nbformat": 4,
 "nbformat_minor": 2
}
