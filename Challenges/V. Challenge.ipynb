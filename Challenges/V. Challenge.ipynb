{
 "cells": [
  {
   "cell_type": "markdown",
   "metadata": {},
   "source": [
    "## Desafío 5: Composición de Funciones\n",
    "\n",
    "Crea una función componer que tome una lista de funciones y retorne una nueva función que represente la composición de las funciones originales. La composición de funciones es una operación donde el resultado de una función se utiliza como el argumento de la siguiente."
   ]
  },
  {
   "cell_type": "code",
   "execution_count": 2,
   "metadata": {},
   "outputs": [
    {
     "name": "stdout",
     "output_type": "stream",
     "text": [
      "función compuesta: 28\n"
     ]
    }
   ],
   "source": [
    "def componer(*funciones):\n",
    "    def funcion_compuesta(valor):\n",
    "        resultado = valor\n",
    "        for funcion in reversed(funciones):\n",
    "            resultado = funcion(resultado)\n",
    "        return resultado\n",
    "    return funcion_compuesta\n",
    "\n",
    "# Ejemplo de uso:\n",
    "def duplicar(x):\n",
    "    return x * 2\n",
    "\n",
    "def sumar_cinco(x):\n",
    "    return x + 5\n",
    "\n",
    "def cuadrado(x):\n",
    "    return x ** 2\n",
    "\n",
    "# Componer las funciones\n",
    "funcion_compuesta = componer(duplicar, sumar_cinco, cuadrado)\n",
    "\n",
    "# Usar la función compuesta\n",
    "resultado = funcion_compuesta(3)\n",
    "print(\"función compuesta:\", resultado)"
   ]
  }
 ],
 "metadata": {
  "kernelspec": {
   "display_name": "Python 3 (ipykernel)",
   "language": "python",
   "name": "python3"
  },
  "language_info": {
   "codemirror_mode": {
    "name": "ipython",
    "version": 3
   },
   "file_extension": ".py",
   "mimetype": "text/x-python",
   "name": "python",
   "nbconvert_exporter": "python",
   "pygments_lexer": "ipython3",
   "version": "3.8.17"
  }
 },
 "nbformat": 4,
 "nbformat_minor": 2
}
