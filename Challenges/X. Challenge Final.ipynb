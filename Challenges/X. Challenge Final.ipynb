{
 "cells": [
  {
   "cell_type": "markdown",
   "metadata": {},
   "source": [
    "## Desafío 10 de Fin de Curso: \"Python Data Journey\"\n",
    "\n",
    "Introducción\n",
    "En el viaje que es la programación en Python, hemos atravesado desde las praderas de las variables y los bucles hasta las montañas de las estructuras de datos complejas y la interacción con archivos. Ahora, al final de este curso de Programación I en Python, nos enfrentamos a un reto integral que pone a prueba todo lo aprendido y un poco más. ¡Es hora de aplicar tus habilidades en un proyecto que simule un escenario del mundo real!\n",
    "- Objetivos\n",
    "    + Consolidar los conocimientos adquiridos durante el curso de Python en un proyecto aplicado.\n",
    "    + Desarrollar un programa que procese datos de archivos y presente resultados analíticos.\n",
    "    + Familiarizarse con el uso de control de versiones utilizando GitHub.\n",
    "    + Demostrar buenas prácticas de codificación y documentación de código.\n",
    "- Metodología\n",
    "    + Planificación: Antes de escribir una línea de código, planifica tu enfoque. Define qué estructuras de datos utilizarás, cómo manejarás la entrada/salida de archivos y qué lógica aplicarás para el procesamiento de datos.\n",
    "    + Desarrollo Iterativo: Comienza con las funcionalidades básicas y avanza incrementando la complejidad. Después de cada función o módulo completado, realiza pruebas para garantizar la funcionalidad.\n",
    "    + Refactorización: Una vez que tengas un prototipo funcional, revisa tu código y mejóralo. Elimina redundancias y asegúrate de que tu código es limpio y legible.\n",
    "    + Control de Versiones: Utiliza GitHub para mantener un registro de tus cambios y versiones. Asegúrate de hacer commits claros y concisos que reflejen cada etapa importante del desarrollo de tu software.\n",
    "- Uso de GitHub\n",
    "    + Inicializa un repositorio en GitHub al comienzo de tu proyecto.\n",
    "    + Realiza commits pequeños y frecuentes con mensajes descriptivos.\n",
    "    + Mantén una estructura de directorios limpia y profesional en tu repositorio.\n",
    "    + Incluye un archivo README.md que proporcione una descripción clara del proyecto, cómo ejecutarlo y ejemplos de uso."
   ]
  },
  {
   "cell_type": "code",
   "execution_count": null,
   "metadata": {
    "vscode": {
     "languageId": "plaintext"
    }
   },
   "outputs": [],
   "source": []
  }
 ],
 "metadata": {
  "kernelspec": {
   "display_name": "Python 3 (ipykernel)",
   "language": "python",
   "name": "python3"
  },
  "language_info": {
   "codemirror_mode": {
    "name": "ipython",
    "version": 3
   },
   "file_extension": ".py",
   "mimetype": "text/x-python",
   "name": "python",
   "nbconvert_exporter": "python",
   "pygments_lexer": "ipython3",
   "version": "3.8.17"
  }
 },
 "nbformat": 4,
 "nbformat_minor": 2
}
