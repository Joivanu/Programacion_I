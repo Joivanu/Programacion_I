{
 "cells": [
  {
   "cell_type": "markdown",
   "metadata": {},
   "source": [
    "## Desafío 2: Generador de Histograma\n",
    "\n",
    "Crear un programa que tome una lista de números y genere un histograma basado en esos números, usando asteriscos para crear las barras del histograma.\n"
   ]
  },
  {
   "cell_type": "code",
   "execution_count": 1,
   "metadata": {},
   "outputs": [
    {
     "name": "stdout",
     "output_type": "stream",
     "text": [
      "*\n",
      "**\n",
      "*****\n",
      "******\n",
      "****\n",
      "***\n",
      "********\n",
      "**\n",
      "****\n",
      "*\n"
     ]
    }
   ],
   "source": [
    "def generar_histograma_horizontal(lista_numeros):\n",
    "    for numero in lista_numeros:\n",
    "        barra = '*' * numero\n",
    "        print(barra)\n",
    "\n",
    "entrada = input(\"Ingresa una lista de números separados por espacios: \")\n",
    "lista_numeros = [int(numero) for numero in entrada.split()]\n",
    "\n",
    "generar_histograma_horizontal(lista_numeros)\n"
   ]
  }
 ],
 "metadata": {
  "kernelspec": {
   "display_name": "Python 3 (ipykernel)",
   "language": "python",
   "name": "python3"
  },
  "language_info": {
   "codemirror_mode": {
    "name": "ipython",
    "version": 3
   },
   "file_extension": ".py",
   "mimetype": "text/x-python",
   "name": "python",
   "nbconvert_exporter": "python",
   "pygments_lexer": "ipython3",
   "version": "3.8.17"
  }
 },
 "nbformat": 4,
 "nbformat_minor": 2
}
