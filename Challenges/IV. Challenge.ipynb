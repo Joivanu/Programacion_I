{
 "cells": [
  {
   "cell_type": "markdown",
   "metadata": {},
   "source": [
    "## Desafío 4: Implementación de Funciones map, filter, y reduce Propias\n",
    "\n",
    "Crea tus propias versiones de las funciones map, filter y reduce. Estas funciones deben tomar como argumentos una función y una lista (y un valor inicial en el caso de reduce) y deben retornar un iterable (puedes retornar una lista).\n"
   ]
  },
  {
   "cell_type": "code",
   "execution_count": 5,
   "metadata": {},
   "outputs": [
    {
     "name": "stdout",
     "output_type": "stream",
     "text": [
      "Resultado de mi_map: [4, 8, 12, 16, 20, 24, 28]\n",
      "Resultado de mi_filter: [4, 6, 8, 10, 12, 14]\n",
      "Resultado de mi_reduce: 56\n"
     ]
    }
   ],
   "source": [
    "def mi_map(funcion, iterable):\n",
    "    return [funcion(elemento) for elemento in iterable]\n",
    "\n",
    "def mi_filter(funcion, iterable):\n",
    "    return [elemento for elemento in iterable if funcion(elemento)]\n",
    "\n",
    "def mi_reduce(funcion, iterable, valor_inicial=None):\n",
    "    iterador = iter(iterable)\n",
    "\n",
    "    if valor_inicial is None:\n",
    "        acumulador = next(iterador)\n",
    "    else:\n",
    "        acumulador = valor_inicial\n",
    "\n",
    "    for elemento in iterador:\n",
    "        acumulador = funcion(acumulador, elemento)\n",
    "\n",
    "    return acumulador\n",
    "\n",
    "# Ejemplos de uso:\n",
    "\n",
    "# Función para duplicar cada elemento en una lista usando mi_map\n",
    "def duplicar(x):\n",
    "    return x * 2\n",
    "\n",
    "lista_original = [2, 4, 6, 8, 10, 12, 14]\n",
    "resultado_map = mi_map(duplicar, lista_original)\n",
    "print(\"Resultado de mi_map:\", resultado_map)\n",
    "\n",
    "# Función para filtrar elementos mayores que 2 usando mi_filter\n",
    "def mayor_que_dos(x):\n",
    "    return x > 2\n",
    "\n",
    "resultado_filter = mi_filter(mayor_que_dos, lista_original)\n",
    "print(\"Resultado de mi_filter:\", resultado_filter)\n",
    "\n",
    "# Función para sumar elementos de una lista usando mi_reduce\n",
    "def sumar(x, y):\n",
    "    return x + y\n",
    "\n",
    "resultado_reduce = mi_reduce(sumar, lista_original)\n",
    "print(\"Resultado de mi_reduce:\", resultado_reduce)\n"
   ]
  }
 ],
 "metadata": {
  "kernelspec": {
   "display_name": "Python 3 (ipykernel)",
   "language": "python",
   "name": "python3"
  },
  "language_info": {
   "codemirror_mode": {
    "name": "ipython",
    "version": 3
   },
   "file_extension": ".py",
   "mimetype": "text/x-python",
   "name": "python",
   "nbconvert_exporter": "python",
   "pygments_lexer": "ipython3",
   "version": "3.8.17"
  }
 },
 "nbformat": 4,
 "nbformat_minor": 2
}
